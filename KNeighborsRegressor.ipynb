{
  "cells": [
    {
      "cell_type": "markdown",
      "metadata": {
        "id": "view-in-github",
        "colab_type": "text"
      },
      "source": [
        "<a href=\"https://colab.research.google.com/github/Nourelimanehed/ml_notebooks/blob/main/KNeighborsRegressor.ipynb\" target=\"_parent\"><img src=\"https://colab.research.google.com/assets/colab-badge.svg\" alt=\"Open In Colab\"/></a>"
      ]
    },
    {
      "cell_type": "markdown",
      "id": "fc6a8628",
      "metadata": {
        "id": "fc6a8628"
      },
      "source": [
        "# K-Nearest Neighbors Regressor - Theory with a practical example"
      ]
    },
    {
      "cell_type": "markdown",
      "id": "c824583d",
      "metadata": {
        "id": "c824583d"
      },
      "source": [
        "### Introducing the database"
      ]
    },
    {
      "cell_type": "markdown",
      "id": "3cb0a75c",
      "metadata": {
        "id": "3cb0a75c"
      },
      "source": [
        "The database for this example is generated randomly. Generating datasets is an important skill to have. This is the best way to explore the algorithms themelves without having to worry about encoding, standardizing, dealing with outliers and all sorts of preprocessing that comes with a real-world dataset. Another advantage of randomly generated datasets is that you have full control over the data. You are free to choose the number of features, the number of classes, the way the points are distributed, everything really!\n",
        "\n",
        "I wish you to have lots of fun with the exercise and keep experimenting!"
      ]
    },
    {
      "cell_type": "markdown",
      "id": "2b4837d7",
      "metadata": {
        "id": "2b4837d7"
      },
      "source": [
        "### Importing the necessary libraries"
      ]
    },
    {
      "cell_type": "code",
      "execution_count": 1,
      "id": "c4046bd9",
      "metadata": {
        "id": "c4046bd9"
      },
      "outputs": [],
      "source": [
        "# Will help us generate the regression\n",
        "from sklearn.datasets import make_regression\n",
        "# Will help us create the KNN regression model\n",
        "from sklearn.neighbors import KNeighborsRegressor\n",
        "\n",
        "# Will help us visualize the results\n",
        "import matplotlib.pyplot as plt\n",
        "import seaborn as sns"
      ]
    },
    {
      "cell_type": "markdown",
      "id": "ca7c0c59",
      "metadata": {
        "id": "ca7c0c59"
      },
      "source": [
        "### Generating the database"
      ]
    },
    {
      "cell_type": "code",
      "execution_count": 2,
      "id": "d301e149",
      "metadata": {
        "id": "d301e149"
      },
      "outputs": [],
      "source": [
        "# Create a linear regression with 10 samples and a single feature.\n",
        "# Introduce some noise in the data\n",
        "# Set a random state, so that each run produces the same regression\n",
        "inputs, target = make_regression(n_samples = 10,\n",
        "                                 n_features = 1,\n",
        "                                 noise = 15,\n",
        "                                 random_state = 365)"
      ]
    },
    {
      "cell_type": "code",
      "execution_count": 3,
      "id": "1f1694f6",
      "metadata": {
        "id": "1f1694f6"
      },
      "outputs": [],
      "source": [
        "# Since the dataset is randomly generated, we are free to modify it at our will.\n",
        "# Here, I divide the target values just to make the numbers in the dataset smaller.\n",
        "# Note, this is not something you would do with a real dataset!\n",
        "target = target/40"
      ]
    },
    {
      "cell_type": "markdown",
      "id": "e0369b0b",
      "metadata": {
        "id": "e0369b0b"
      },
      "source": [
        "### Plotting the database"
      ]
    },
    {
      "cell_type": "code",
      "execution_count": 4,
      "id": "f3776439",
      "metadata": {
        "colab": {
          "base_uri": "https://localhost:8080/",
          "height": 434
        },
        "id": "f3776439",
        "outputId": "76706ef3-5755-4cea-dd2b-2d20238550bb"
      },
      "outputs": [
        {
          "output_type": "display_data",
          "data": {
            "text/plain": [
              "<Figure size 640x480 with 1 Axes>"
            ],
            "image/png": "[encoded data removed]"
          },
          "metadata": {}
        }
      ],
      "source": [
        "# Set the seaborn visualization\n",
        "sns.set()\n",
        "\n",
        "# Plot the dataset\n",
        "plt.scatter(inputs, target);"
      ]
    },
    {
      "cell_type": "markdown",
      "id": "c8cb16f7",
      "metadata": {
        "id": "c8cb16f7"
      },
      "source": [
        "### Creating the model"
      ]
    },
    {
      "cell_type": "code",
      "execution_count": 5,
      "id": "520f76d0",
      "metadata": {
        "colab": {
          "base_uri": "https://localhost:8080/",
          "height": 75
        },
        "id": "520f76d0",
        "outputId": "77486984-d78e-407c-de9f-cfebe778790a"
      },
      "outputs": [
        {
          "output_type": "execute_result",
          "data": {
            "text/plain": [
              "KNeighborsRegressor(n_neighbors=3)"
            ],
            "text/html": [
              "<style>#sk-container-id-1 {color: black;background-color: white;}#sk-container-id-1 pre{padding: 0;}#sk-container-id-1 div.sk-toggleable {background-color: white;}#sk-container-id-1 label.sk-toggleable__label {cursor: pointer;display: block;width: 100%;margin-bottom: 0;padding: 0.3em;box-sizing: border-box;text-align: center;}#sk-container-id-1 label.sk-toggleable__label-arrow:before {content: \"▸\";float: left;margin-right: 0.25em;color: #696969;}#sk-container-id-1 label.sk-toggleable__label-arrow:hover:before {color: black;}#sk-container-id-1 div.sk-estimator:hover label.sk-toggleable__label-arrow:before {color: black;}#sk-container-id-1 div.sk-toggleable__content {max-height: 0;max-width: 0;overflow: hidden;text-align: left;background-color: #f0f8ff;}#sk-container-id-1 div.sk-toggleable__content pre {margin: 0.2em;color: black;border-radius: 0.25em;background-color: #f0f8ff;}#sk-container-id-1 input.sk-toggleable__control:checked~div.sk-toggleable__content {max-height: 200px;max-width: 100%;overflow: auto;}#sk-container-id-1 input.sk-toggleable__control:checked~label.sk-toggleable__label-arrow:before {content: \"▾\";}#sk-container-id-1 div.sk-estimator input.sk-toggleable__control:checked~label.sk-toggleable__label {background-color: #d4ebff;}#sk-container-id-1 div.sk-label input.sk-toggleable__control:checked~label.sk-toggleable__label {background-color: #d4ebff;}#sk-container-id-1 input.sk-hidden--visually {border: 0;clip: rect(1px 1px 1px 1px);clip: rect(1px, 1px, 1px, 1px);height: 1px;margin: -1px;overflow: hidden;padding: 0;position: absolute;width: 1px;}#sk-container-id-1 div.sk-estimator {font-family: monospace;background-color: #f0f8ff;border: 1px dotted black;border-radius: 0.25em;box-sizing: border-box;margin-bottom: 0.5em;}#sk-container-id-1 div.sk-estimator:hover {background-color: #d4ebff;}#sk-container-id-1 div.sk-parallel-item::after {content: \"\";width: 100%;border-bottom: 1px solid gray;flex-grow: 1;}#sk-container-id-1 div.sk-label:hover label.sk-toggleable__label {background-color: #d4ebff;}#sk-container-id-1 div.sk-serial::before {content: \"\";position: absolute;border-left: 1px solid gray;box-sizing: border-box;top: 0;bottom: 0;left: 50%;z-index: 0;}#sk-container-id-1 div.sk-serial {display: flex;flex-direction: column;align-items: center;background-color: white;padding-right: 0.2em;padding-left: 0.2em;position: relative;}#sk-container-id-1 div.sk-item {position: relative;z-index: 1;}#sk-container-id-1 div.sk-parallel {display: flex;align-items: stretch;justify-content: center;background-color: white;position: relative;}#sk-container-id-1 div.sk-item::before, #sk-container-id-1 div.sk-parallel-item::before {content: \"\";position: absolute;border-left: 1px solid gray;box-sizing: border-box;top: 0;bottom: 0;left: 50%;z-index: -1;}#sk-container-id-1 div.sk-parallel-item {display: flex;flex-direction: column;z-index: 1;position: relative;background-color: white;}#sk-container-id-1 div.sk-parallel-item:first-child::after {align-self: flex-end;width: 50%;}#sk-container-id-1 div.sk-parallel-item:last-child::after {align-self: flex-start;width: 50%;}#sk-container-id-1 div.sk-parallel-item:only-child::after {width: 0;}#sk-container-id-1 div.sk-dashed-wrapped {border: 1px dashed gray;margin: 0 0.4em 0.5em 0.4em;box-sizing: border-box;padding-bottom: 0.4em;background-color: white;}#sk-container-id-1 div.sk-label label {font-family: monospace;font-weight: bold;display: inline-block;line-height: 1.2em;}#sk-container-id-1 div.sk-label-container {text-align: center;}#sk-container-id-1 div.sk-container {/* jupyter's `normalize.less` sets `[hidden] { display: none; }` but bootstrap.min.css set `[hidden] { display: none !important; }` so we also need the `!important` here to be able to override the default hidden behavior on the sphinx rendered scikit-learn.org. See: https://github.com/scikit-learn/scikit-learn/issues/21755 */display: inline-block !important;position: relative;}#sk-container-id-1 div.sk-text-repr-fallback {display: none;}</style><div id=\"sk-container-id-1\" class=\"sk-top-container\"><div class=\"sk-text-repr-fallback\"><pre>KNeighborsRegressor(n_neighbors=3)</pre><b>In a Jupyter environment, please rerun this cell to show the HTML representation or trust the notebook. <br />On GitHub, the HTML representation is unable to render, please try loading this page with nbviewer.org.</b></div><div class=\"sk-container\" hidden><div class=\"sk-item\"><div class=\"sk-estimator sk-toggleable\"><input class=\"sk-toggleable__control sk-hidden--visually\" id=\"sk-estimator-id-1\" type=\"checkbox\" checked><label for=\"sk-estimator-id-1\" class=\"sk-toggleable__label sk-toggleable__label-arrow\">KNeighborsRegressor</label><div class=\"sk-toggleable__content\"><pre>KNeighborsRegressor(n_neighbors=3)</pre></div></div></div></div></div>"
            ]
          },
          "metadata": {},
          "execution_count": 5
        }
      ],
      "source": [
        "# Create a KNN regressior with a specified K-value\n",
        "reg_knn = KNeighborsRegressor(n_neighbors = 3)\n",
        "\n",
        "# Fit the model to the data\n",
        "reg_knn.fit(inputs, target)"
      ]
    },
    {
      "cell_type": "markdown",
      "id": "5c463f5a",
      "metadata": {
        "id": "5c463f5a"
      },
      "source": [
        "### Predicting a sample"
      ]
    },
    {
      "cell_type": "code",
      "execution_count": 6,
      "id": "282325e2",
      "metadata": {
        "colab": {
          "base_uri": "https://localhost:8080/"
        },
        "id": "282325e2",
        "outputId": "de9dcca1-e088-40d7-b1ef-b36908e1a57e"
      },
      "outputs": [
        {
          "output_type": "execute_result",
          "data": {
            "text/plain": [
              "array([-0.51650189])"
            ]
          },
          "metadata": {},
          "execution_count": 6
        }
      ],
      "source": [
        "# Set an x-value to a sample whose y-value we aim to predict\n",
        "x_pred = -0.5\n",
        "\n",
        "# Use the fitted model to predict the y-value of the sample\n",
        "y_pred = reg_knn.predict([[x_pred]])\n",
        "\n",
        "# Display the predicted value\n",
        "y_pred"
      ]
    },
    {
      "cell_type": "code",
      "execution_count": 7,
      "id": "254fba1f",
      "metadata": {
        "colab": {
          "base_uri": "https://localhost:8080/"
        },
        "id": "254fba1f",
        "outputId": "168d15a4-2950-4f8e-db83-46c6d90ed7c8"
      },
      "outputs": [
        {
          "output_type": "execute_result",
          "data": {
            "text/plain": [
              "(array([[0.26014535, 0.35632097, 0.46645194]]), array([[8, 3, 0]]))"
            ]
          },
          "metadata": {},
          "execution_count": 7
        }
      ],
      "source": [
        "# Store the distance to the three nearest neighbors as well as their indices in the dataset\n",
        "neighbors = reg_knn.kneighbors([[x_pred]])\n",
        "\n",
        "# Display the distanes and the indices\n",
        "neighbors"
      ]
    },
    {
      "cell_type": "markdown",
      "id": "d97bc45a",
      "metadata": {
        "id": "d97bc45a"
      },
      "source": [
        "### Visualizing the neighbors"
      ]
    },
    {
      "cell_type": "code",
      "execution_count": 8,
      "id": "c594b0c2",
      "metadata": {
        "colab": {
          "base_uri": "https://localhost:8080/",
          "height": 434
        },
        "id": "c594b0c2",
        "outputId": "08b2ff7c-85c6-4f3f-8dc2-a3f67b82f69f"
      },
      "outputs": [
        {
          "output_type": "display_data",
          "data": {
            "text/plain": [
              "<Figure size 640x480 with 1 Axes>"
            ],
            "image/png": "[encoded data removed]"
          },
          "metadata": {}
        }
      ],
      "source": [
        "# Set the seaborn visualization\n",
        "sns.set()\n",
        "\n",
        "# Plot the targets versus the inputs\n",
        "plt.scatter(inputs, target)\n",
        "\n",
        "# Plot the sample point whose y-value we predicted\n",
        "plt.scatter(x_pred, y_pred)\n",
        "\n",
        "# Create two arrays where the x- and y-values of the nearest neighbors will be stored\n",
        "plot_x_train = []\n",
        "plot_y_train = []\n",
        "\n",
        "# Use the indices of the nearest neighbors to fetch their x- and y-values\n",
        "for i in neighbors[1]:\n",
        "    plot_x_train.append(inputs[i])\n",
        "    plot_y_train.append(target[i])\n",
        "\n",
        "# Encircle the nearest neighbors\n",
        "plt.scatter(plot_x_train,\n",
        "            plot_y_train,\n",
        "            s=200, facecolors='none', edgecolors='r');"
      ]
    },
    {
      "cell_type": "markdown",
      "id": "483e44fa",
      "metadata": {
        "id": "483e44fa"
      },
      "source": [
        "### Calculating the predicted value"
      ]
    },
    {
      "cell_type": "code",
      "execution_count": 9,
      "id": "a787eeaa",
      "metadata": {
        "colab": {
          "base_uri": "https://localhost:8080/"
        },
        "id": "a787eeaa",
        "outputId": "6243f951-8984-4842-dcbc-5cb3643380ec"
      },
      "outputs": [
        {
          "output_type": "execute_result",
          "data": {
            "text/plain": [
              "(0.3288886919385298,\n",
              " -0.5134152746794666,\n",
              " -1.3649790770347563,\n",
              " array([-0.51650189]))"
            ]
          },
          "metadata": {},
          "execution_count": 9
        }
      ],
      "source": [
        "# Display the y-values of the neighbors together with the predicted y-value\n",
        "\n",
        "# target[8], y_pred\n",
        "# target[8], target[3], y_pred\n",
        "target[8], target[3], target[0], y_pred"
      ]
    },
    {
      "cell_type": "code",
      "execution_count": 10,
      "id": "39f2920f",
      "metadata": {
        "colab": {
          "base_uri": "https://localhost:8080/"
        },
        "id": "39f2920f",
        "outputId": "ac21ceb0-0668-4f55-ee22-730075a7675b"
      },
      "outputs": [
        {
          "output_type": "execute_result",
          "data": {
            "text/plain": [
              "-0.5165018865918977"
            ]
          },
          "metadata": {},
          "execution_count": 10
        }
      ],
      "source": [
        "# Find the arithmetic mean of the y-values of the nearest neighbors\n",
        "(target[8] + target[3] + target[0])/3"
      ]
    }
  ],
  "metadata": {
    "kernelspec": {
      "display_name": "Python 3 (ipykernel)",
      "language": "python",
      "name": "python3"
    },
    "language_info": {
      "codemirror_mode": {
        "name": "ipython",
        "version": 3
      },
      "file_extension": ".py",
      "mimetype": "text/x-python",
      "name": "python",
      "nbconvert_exporter": "python",
      "pygments_lexer": "ipython3",
      "version": "3.8.8"
    },
    "colab": {
      "provenance": [],
      "include_colab_link": true
    }
  },
  "nbformat": 4,
  "nbformat_minor": 5
}