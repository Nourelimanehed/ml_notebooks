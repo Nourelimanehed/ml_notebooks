{
  "cells": [
    {
      "cell_type": "markdown",
      "metadata": {
        "id": "view-in-github",
        "colab_type": "text"
      },
      "source": [
        "<a href=\"https://colab.research.google.com/github/Nourelimanehed/ml_notebooks/blob/main/Tink.ipynb\" target=\"_parent\"><img src=\"https://colab.research.google.com/assets/colab-badge.svg\" alt=\"Open In Colab\"/></a>"
      ]
    },
    {
      "cell_type": "markdown",
      "id": "ICski6jl7PBR",
      "metadata": {
        "id": "ICski6jl7PBR"
      },
      "source": [
        "# Naïve Bayes Classifier"
      ]
    },
    {
      "cell_type": "markdown",
      "id": "pSh7TItR7PBT",
      "metadata": {
        "id": "pSh7TItR7PBT"
      },
      "source": [
        "## Import the necessary libraires"
      ]
    },
    {
      "cell_type": "code",
      "execution_count": 42,
      "id": "MtSehNzP7PBU",
      "metadata": {
        "id": "MtSehNzP7PBU"
      },
      "outputs": [],
      "source": [
        "import pandas as pd\n",
        "from sklearn.feature_extraction.text import CountVectorizer\n",
        "# A method used to split the dataset into training and testing\n",
        "from sklearn.model_selection import train_test_split\n",
        "# The multinomial type of the Naive Bayes classfier\n",
        "from sklearn.naive_bayes import MultinomialNB, ComplementNB\n",
        "# Importing different metrics that would allow us to evaluate our model\n",
        "from sklearn.metrics import classification_report, ConfusionMatrixDisplay\n",
        "# Python's plotting module.\n",
        "import matplotlib.pyplot as plt\n",
        "import seaborn as sns\n",
        "import numpy as np\n"
      ]
    },
    {
      "cell_type": "markdown",
      "id": "yhHvAG3w7PBU",
      "metadata": {
        "id": "yhHvAG3w7PBU"
      },
      "source": [
        "## Read the data"
      ]
    },
    {
      "cell_type": "code",
      "execution_count": 46,
      "id": "tj6j9aBr7PBV",
      "metadata": {
        "colab": {
          "base_uri": "https://localhost:8080/",
          "height": 206
        },
        "id": "tj6j9aBr7PBV",
        "outputId": "3d701495-7b75-4cc2-abcb-152a1047db70"
      },
      "outputs": [
        {
          "output_type": "execute_result",
          "data": {
            "text/plain": [
              "  CLASS                                            CONTENT\n",
              "0  INFJ  'http://www.youtube.com/watch?v=qsXHcwe3krw|||...\n",
              "1  INTP  'Good one  _____   https://www.youtube.com/wat...\n",
              "2  INTJ  'Dear INTP,   I enjoyed our conversation the o...\n",
              "3  INTJ  '18/37 @.@|||Science  is not perfect. No scien...\n",
              "4  INFJ  'No, I can't draw on my own nails (haha). Thos..."
            ],
            "text/html": [
              "\n",
              "  <div id=\"df-cb2811d4-f48a-4475-9fe1-8e10d0f68937\" class=\"colab-df-container\">\n",
              "    <div>\n",
              "<style scoped>\n",
              "    .dataframe tbody tr th:only-of-type {\n",
              "        vertical-align: middle;\n",
              "    }\n",
              "\n",
              "    .dataframe tbody tr th {\n",
              "        vertical-align: top;\n",
              "    }\n",
              "\n",
              "    .dataframe thead th {\n",
              "        text-align: right;\n",
              "    }\n",
              "</style>\n",
              "<table border=\"1\" class=\"dataframe\">\n",
              "  <thead>\n",
              "    <tr style=\"text-align: right;\">\n",
              "      <th></th>\n",
              "      <th>CLASS</th>\n",
              "      <th>CONTENT</th>\n",
              "    </tr>\n",
              "  </thead>\n",
              "  <tbody>\n",
              "    <tr>\n",
              "      <th>0</th>\n",
              "      <td>INFJ</td>\n",
              "      <td>'http://www.youtube.com/watch?v=qsXHcwe3krw|||...</td>\n",
              "    </tr>\n",
              "    <tr>\n",
              "      <th>1</th>\n",
              "      <td>INTP</td>\n",
              "      <td>'Good one  _____   https://www.youtube.com/wat...</td>\n",
              "    </tr>\n",
              "    <tr>\n",
              "      <th>2</th>\n",
              "      <td>INTJ</td>\n",
              "      <td>'Dear INTP,   I enjoyed our conversation the o...</td>\n",
              "    </tr>\n",
              "    <tr>\n",
              "      <th>3</th>\n",
              "      <td>INTJ</td>\n",
              "      <td>'18/37 @.@|||Science  is not perfect. No scien...</td>\n",
              "    </tr>\n",
              "    <tr>\n",
              "      <th>4</th>\n",
              "      <td>INFJ</td>\n",
              "      <td>'No, I can't draw on my own nails (haha). Thos...</td>\n",
              "    </tr>\n",
              "  </tbody>\n",
              "</table>\n",
              "</div>\n",
              "    <div class=\"colab-df-buttons\">\n",
              "\n",
              "  <div class=\"colab-df-container\">\n",
              "    <button class=\"colab-df-convert\" onclick=\"convertToInteractive('df-cb2811d4-f48a-4475-9fe1-8e10d0f68937')\"\n",
              "            title=\"Convert this dataframe to an interactive table.\"\n",
              "            style=\"display:none;\">\n",
              "\n",
              "  <svg xmlns=\"http://www.w3.org/2000/svg\" height=\"24px\" viewBox=\"0 -960 960 960\">\n",
              "    <path d=\"M120-120v-720h720v720H120Zm60-500h600v-160H180v160Zm220 220h160v-160H400v160Zm0 220h160v-160H400v160ZM180-400h160v-160H180v160Zm440 0h160v-160H620v160ZM180-180h160v-160H180v160Zm440 0h160v-160H620v160Z\"/>\n",
              "  </svg>\n",
              "    </button>\n",
              "\n",
              "  <style>\n",
              "    .colab-df-container {\n",
              "      display:flex;\n",
              "      gap: 12px;\n",
              "    }\n",
              "\n",
              "    .colab-df-convert {\n",
              "      background-color: #E8F0FE;\n",
              "      border: none;\n",
              "      border-radius: 50%;\n",
              "      cursor: pointer;\n",
              "      display: none;\n",
              "      fill: #1967D2;\n",
              "      height: 32px;\n",
              "      padding: 0 0 0 0;\n",
              "      width: 32px;\n",
              "    }\n",
              "\n",
              "    .colab-df-convert:hover {\n",
              "      background-color: #E2EBFA;\n",
              "      box-shadow: 0px 1px 2px rgba(60, 64, 67, 0.3), 0px 1px 3px 1px rgba(60, 64, 67, 0.15);\n",
              "      fill: #174EA6;\n",
              "    }\n",
              "\n",
              "    .colab-df-buttons div {\n",
              "      margin-bottom: 4px;\n",
              "    }\n",
              "\n",
              "    [theme=dark] .colab-df-convert {\n",
              "      background-color: #3B4455;\n",
              "      fill: #D2E3FC;\n",
              "    }\n",
              "\n",
              "    [theme=dark] .colab-df-convert:hover {\n",
              "      background-color: #434B5C;\n",
              "      box-shadow: 0px 1px 3px 1px rgba(0, 0, 0, 0.15);\n",
              "      filter: drop-shadow(0px 1px 2px rgba(0, 0, 0, 0.3));\n",
              "      fill: #FFFFFF;\n",
              "    }\n",
              "  </style>\n",
              "\n",
              "    <script>\n",
              "      const buttonEl =\n",
              "        document.querySelector('#df-cb2811d4-f48a-4475-9fe1-8e10d0f68937 button.colab-df-convert');\n",
              "      buttonEl.style.display =\n",
              "        google.colab.kernel.accessAllowed ? 'block' : 'none';\n",
              "\n",
              "      async function convertToInteractive(key) {\n",
              "        const element = document.querySelector('#df-cb2811d4-f48a-4475-9fe1-8e10d0f68937');\n",
              "        const dataTable =\n",
              "          await google.colab.kernel.invokeFunction('convertToInteractive',\n",
              "                                                    [key], {});\n",
              "        if (!dataTable) return;\n",
              "\n",
              "        const docLinkHtml = 'Like what you see? Visit the ' +\n",
              "          '<a target=\"_blank\" href=https://colab.research.google.com/notebooks/data_table.ipynb>data table notebook</a>'\n",
              "          + ' to learn more about interactive tables.';\n",
              "        element.innerHTML = '';\n",
              "        dataTable['output_type'] = 'display_data';\n",
              "        await google.colab.output.renderOutput(dataTable, element);\n",
              "        const docLink = document.createElement('div');\n",
              "        docLink.innerHTML = docLinkHtml;\n",
              "        element.appendChild(docLink);\n",
              "      }\n",
              "    </script>\n",
              "  </div>\n",
              "\n",
              "\n",
              "<div id=\"df-f104a767-820e-4d2a-af6e-029b2aa650ca\">\n",
              "  <button class=\"colab-df-quickchart\" onclick=\"quickchart('df-f104a767-820e-4d2a-af6e-029b2aa650ca')\"\n",
              "            title=\"Suggest charts\"\n",
              "            style=\"display:none;\">\n",
              "\n",
              "<svg xmlns=\"http://www.w3.org/2000/svg\" height=\"24px\"viewBox=\"0 0 24 24\"\n",
              "     width=\"24px\">\n",
              "    <g>\n",
              "        <path d=\"M19 3H5c-1.1 0-2 .9-2 2v14c0 1.1.9 2 2 2h14c1.1 0 2-.9 2-2V5c0-1.1-.9-2-2-2zM9 17H7v-7h2v7zm4 0h-2V7h2v10zm4 0h-2v-4h2v4z\"/>\n",
              "    </g>\n",
              "</svg>\n",
              "  </button>\n",
              "\n",
              "<style>\n",
              "  .colab-df-quickchart {\n",
              "      --bg-color: #E8F0FE;\n",
              "      --fill-color: #1967D2;\n",
              "      --hover-bg-color: #E2EBFA;\n",
              "      --hover-fill-color: #174EA6;\n",
              "      --disabled-fill-color: #AAA;\n",
              "      --disabled-bg-color: #DDD;\n",
              "  }\n",
              "\n",
              "  [theme=dark] .colab-df-quickchart {\n",
              "      --bg-color: #3B4455;\n",
              "      --fill-color: #D2E3FC;\n",
              "      --hover-bg-color: #434B5C;\n",
              "      --hover-fill-color: #FFFFFF;\n",
              "      --disabled-bg-color: #3B4455;\n",
              "      --disabled-fill-color: #666;\n",
              "  }\n",
              "\n",
              "  .colab-df-quickchart {\n",
              "    background-color: var(--bg-color);\n",
              "    border: none;\n",
              "    border-radius: 50%;\n",
              "    cursor: pointer;\n",
              "    display: none;\n",
              "    fill: var(--fill-color);\n",
              "    height: 32px;\n",
              "    padding: 0;\n",
              "    width: 32px;\n",
              "  }\n",
              "\n",
              "  .colab-df-quickchart:hover {\n",
              "    background-color: var(--hover-bg-color);\n",
              "    box-shadow: 0 1px 2px rgba(60, 64, 67, 0.3), 0 1px 3px 1px rgba(60, 64, 67, 0.15);\n",
              "    fill: var(--button-hover-fill-color);\n",
              "  }\n",
              "\n",
              "  .colab-df-quickchart-complete:disabled,\n",
              "  .colab-df-quickchart-complete:disabled:hover {\n",
              "    background-color: var(--disabled-bg-color);\n",
              "    fill: var(--disabled-fill-color);\n",
              "    box-shadow: none;\n",
              "  }\n",
              "\n",
              "  .colab-df-spinner {\n",
              "    border: 2px solid var(--fill-color);\n",
              "    border-color: transparent;\n",
              "    border-bottom-color: var(--fill-color);\n",
              "    animation:\n",
              "      spin 1s steps(1) infinite;\n",
              "  }\n",
              "\n",
              "  @keyframes spin {\n",
              "    0% {\n",
              "      border-color: transparent;\n",
              "      border-bottom-color: var(--fill-color);\n",
              "      border-left-color: var(--fill-color);\n",
              "    }\n",
              "    20% {\n",
              "      border-color: transparent;\n",
              "      border-left-color: var(--fill-color);\n",
              "      border-top-color: var(--fill-color);\n",
              "    }\n",
              "    30% {\n",
              "      border-color: transparent;\n",
              "      border-left-color: var(--fill-color);\n",
              "      border-top-color: var(--fill-color);\n",
              "      border-right-color: var(--fill-color);\n",
              "    }\n",
              "    40% {\n",
              "      border-color: transparent;\n",
              "      border-right-color: var(--fill-color);\n",
              "      border-top-color: var(--fill-color);\n",
              "    }\n",
              "    60% {\n",
              "      border-color: transparent;\n",
              "      border-right-color: var(--fill-color);\n",
              "    }\n",
              "    80% {\n",
              "      border-color: transparent;\n",
              "      border-right-color: var(--fill-color);\n",
              "      border-bottom-color: var(--fill-color);\n",
              "    }\n",
              "    90% {\n",
              "      border-color: transparent;\n",
              "      border-bottom-color: var(--fill-color);\n",
              "    }\n",
              "  }\n",
              "</style>\n",
              "\n",
              "  <script>\n",
              "    async function quickchart(key) {\n",
              "      const quickchartButtonEl =\n",
              "        document.querySelector('#' + key + ' button');\n",
              "      quickchartButtonEl.disabled = true;  // To prevent multiple clicks.\n",
              "      quickchartButtonEl.classList.add('colab-df-spinner');\n",
              "      try {\n",
              "        const charts = await google.colab.kernel.invokeFunction(\n",
              "            'suggestCharts', [key], {});\n",
              "      } catch (error) {\n",
              "        console.error('Error during call to suggestCharts:', error);\n",
              "      }\n",
              "      quickchartButtonEl.classList.remove('colab-df-spinner');\n",
              "      quickchartButtonEl.classList.add('colab-df-quickchart-complete');\n",
              "    }\n",
              "    (() => {\n",
              "      let quickchartButtonEl =\n",
              "        document.querySelector('#df-f104a767-820e-4d2a-af6e-029b2aa650ca button');\n",
              "      quickchartButtonEl.style.display =\n",
              "        google.colab.kernel.accessAllowed ? 'block' : 'none';\n",
              "    })();\n",
              "  </script>\n",
              "</div>\n",
              "\n",
              "    </div>\n",
              "  </div>\n"
            ],
            "application/vnd.google.colaboratory.intrinsic+json": {
              "type": "dataframe",
              "variable_name": "data",
              "summary": "{\n  \"name\": \"data\",\n  \"rows\": 5841,\n  \"fields\": [\n    {\n      \"column\": \"CLASS\",\n      \"properties\": {\n        \"dtype\": \"category\",\n        \"num_unique_values\": 4,\n        \"samples\": [\n          \"INTP\",\n          \"INFP\",\n          \"INFJ\"\n        ],\n        \"semantic_type\": \"\",\n        \"description\": \"\"\n      }\n    },\n    {\n      \"column\": \"CONTENT\",\n      \"properties\": {\n        \"dtype\": \"string\",\n        \"num_unique_values\": 5698,\n        \"samples\": [\n          \"'Low degree of confidence across the board, but to get the ball rolling:  Cassandra IxTJ Iron Bull ExTJ Blackwall ISxJ Varris ExTP Sera ISxP Cole IxFP Solas INxP Vivienne xNTJ|||Yes. I don't think there's much room for ambiguity here.   I'd say ESFP, but I can see why you'd lean ESTP. Clearly she extraverts perception: intensely curious, uninterested in commitment,...|||My advice would be to stop empathizing and instead locate agency at levels other than that of the individual. It will help you suspend judgment and is good historical practice in its own right. And...|||Weird is, very often, the S term for N. It needn't be derogatory, either. Non-weird people can appreciate weird people, just as the weird can appreciate those who are a little more grounded.|||Oh, I'm not complaining that we discuss philosophy here. (If anything, I wish there were more parallel discussions on the other type forums so more direct comparison of intuitions could be done.)...|||Based on stereotype you'd think we'd be better about defining our terms, though; sheesh.|||Women get a lot of messages on online dating sites, and the vast majority of them are incredibly boring. (Of the minority that are not boring, about half are genuinely interesting and half are...|||Yup, this is an SJ's game, as a look at any military in the world should indicate.|||Almost certainly not, because both of those beliefs are incredibly rare. Don't fall prey to the base rate fallacy.   (I'm inclined to the view that if there are such things as qualia then they're...|||Present in this thread, and every one I've seen like it over Yon Internetes: Yeah, I'm not a feminist because they hate men.  Not present: YEAH I'M A FEMINIST BECAUSE MEN ARE THE FUCKING WORST...|||Don't knock on hate. Struggles for justice often come from a place of hate, and gain fuel from it - hatred, if nothing else, of prevailing conditions. If people hate their oppressors as individual...|||It might be worth thinking about the ways in which different types are able to genetically and memetically reproduce themselves, and the ways these interact (assuming we're credulous about all of the...|||You have to have some sort of belief before you take any sort of intentional action. So I'll certainly lend my assent to the idea that opinions (in this sense) are the root of all evil: if we didn't...|||This and fear. Most violence - especially large-scale political violence - is rational in the sense of being a(n often very effective) means towards achieving concrete ends. Every social system of...|||My Ti-Ne P-ness.|||INFPs are the best. :)|||Any man can be accused of rape - but most who are are guilty, and most who're guilty aren't, and most who are get reflexively defended. Any amount of default confidence we place in accusations is...|||Oh, huh, I somehow inserted a not in there. Sorry about that!|||Oh, I'm absolutely not saying they aren't horrible, just that I'm not sure I agree with the idea that they're worse on account of being stupid. I hope I didn't say anything to trivialize your...|||At the most abstract level, patriarchy.  At a more concrete level: many rape myths are prevalent because, sociologically, they help to reproduce patriarchy, and psychologically, they protect people...|||If you take a look at communities organized around occultism or fundamentalism or conspiracy theories, there are pretty much always people who are interested in the stuff at a theoretical level,...|||This thread is interesting because it's kind of a window into how people who pride themselves on orthography think people who don't spell. Natural misspellings are quite different - this seems to...|||I get it and I'm still facepalming.|||Incidentally, it doesn't really apply to wolves either - the Greek Alphabet stuff was inferred from how wolves behave in captivity, not the wild. (Arguably one could say that humans are more in...|||All of these are of the form here's why <unpopular idea> is actually true, which is perfectly INTPish.|||Take this one too and give us the results, even if they appear cryptic.|||You can likely go without the membership, depending on the layout of the gym - just make a beeline for the shower as though you're intending to work out afterwards.|||Both INTJ and INFP are Fi-Te, whereas INTP is Ti-Fe. Would you say that you're more fluid - thinking critically, but responding to peer pressure - or solid - having a clear internal sense of what...|||Better yet, throw a party. Friends are always valuable in a pinch; invest sooner rather than later.|||Abbie Hoffman's Steal This Book - you can comply with the title by clicking here - is the classic work on this. There are necessary updates, obviously.   If public facilities are enough to get you...|||One aspect of Jungian function theory seems directly falsifiable: the degree to which the ordering of the functions depends on the combination of axes. A 1-n counterexample to the theory: I reliably...|||The subset of feminists who say that all porn is bad actually do define porn as the subset of masturbation aids that are bad, so the statement is analytic, not synthetic. This doesn't quite jibe...|||Giving up porn is really easy, though? I know because I quit cold turkey successfully (for my own reasons, not my girlfriend's request) and I have basically no self-control at all. It's not something...|||I love being a nerd; I hate the ridiculous ressentiment that infects groups of people identifying as nerds. Just because non-nerds have little to say of interest to nerds doesn't mean they need a...|||The difficulty of ascertaining this - and the indication of reports on the industry that my prior chance of a false positive is high - are why I quit watching porn. With the professional stuff...|||I think this betrays a fundamental misunderstanding about what moral non-realism is. Relativism in the sense we're discussing doesn't say that there are no objective truths, it says that there are no...|||Different people fundamentally value different things, and the universe itself doesn't care about anything. The relativists are fundamentally right: there's no a priori argument for why any agent in...|||I really can't emphasize this enough. Not even grad schools care about what you majored in as an undergrad.|||I would so pay for a print SEP with crayon illustrations.  If you want to read Capital, read Smith, then Ricardo, then Fine and Saad-Filho's Marx's 'Capital', and then Vol. 1 (epub here, if that's...|||Oh, it's not at all about agreement - I think Rand's basically right on metaethics, although the way she phrases it is really weird, since she wasn't in dialogue with contemporary philosophy; and...|||There's a great deal of good material out there, so if you can narrow down what it is you're looking for, do so!   If you're not quite sure, I would recommend J.L. Mackie's Ethics, Marx's German...|||Precisely. This is why Scandinavia, the only region with near-parity in parliamentary representation and parental involvement in childrearing, is so famous for its poor governance and dysfunctional...|||I believe in apostolic succession, the authority of the bishop of Rome in matters of faith and morals, justification through the sacraments and hylomorphism, but please don't call me a Catholic;...|||Like others, I don't know representative an INTP male I am, but  1) I would not say I was interested unless I was very interested, and 2) I am spotty keeping up communications with people even...|||The brain isn't centralized, it's massively parallel. There isn't really a single answer to centralization is more efficient or not; it depends on the substrate, the tasks you're trying to...|||The universe of adoptees has unusually low environmental variation, and birth and adopting parent characteristics tend to covary. Inferences from identical against heterozygotic twins aren't plagued...|||Most of your peers who repeat phrases back to the teacher aren't dumb people who can't see plain and simple lies - in fact, I guarantee you that most non-nerds are much better at detecting lies...|||Failed my test six consecutive times, which is more than it ought to have taken me to realize that a luck passing would have just made me a danger to myself and others. Since I don't intend to ever...|||Yeah, I think that's still incoherent: if human nature means anything, it means the range of molds that are possible. If you see a human doing x - rape, snowboarding, theoretical physics, whatever...|||No, it's clear that that's your belief; it's just not clear how to interpret the quoted passage - but discussing this particular point further seems useless, a trap for the conversation to become...'\",\n          \"'Good Morning INTJs! How are you feeling today?  Every response would just be: 67172|||First thing we'd do is sit down and discuss whether it would be suicide or murder if one of us killed the other.  We'd probably do experiments like trying to figure out a way to telepathically...|||I read a lot on my tablet too since most of my textbooks are ebooks. You're right in that it's really convenient and ridiculously easy to use. But there's just that ineffable feeling you get when...|||I love reading! I read anything and everything I can, whenever I can. Just got a 10 book series from the library last week and I've finished 3 books already.  I also read loads of non-fiction books...|||65956|||Let's work in groups! I feel happy/sorry/any emotion for you! (Go feel it yourself you lazy git...) I like/love..... Good work! You look nice/ugly/fat/thin etc. Nice to meet you! Good Morning!...|||I had a really strange dream a few days ago.  I dreamt I was being chased by a massive chocolate. I'm running away from it and I head towards a cliff. I then proceed to jump off the cliff for some...|||On a completely unrelated note, you may want to read what they've written on the website:  The Inkblot site is a fun test similar to the Rorschach test. We  don't  use the actual Rorschach cards...|||Q: How does an INTJ quickly burn a lot of calories?  A: He finds a fat kid and sets him on fire.|||https://www.youtube.com/watch?v=XhAuIAqnalI  Cameron can't even think of a comeback LOL|||MINIMUM CRITERIA: Two articles of clothing must be selected. One must cover the top half (shirt/t-shirt/full-sleeved shirt/hoodie etc.) and the other should fully cover the bottom half...|||https://d24w6bsrhbeh9d.cloudfront.net/photo/6301703_700b_v1.jpg|||Heu, Sumus Omnes Idiotae. Such is life.  The first sentence is in Latin and translates as Alas, we are all idiots.|||http://fc01.deviantart.net/fs6/i/2005/049/f/3/Marvin__the_paranoid_android_by_Argial.jpg|||A few thousand times per second...|||I've no idea where I got that from. My only advice would be to Google it.|||Your project sounds really interesting. I wish we did something like that when I was at school.  Here are my ideas: - A completely blank dream (might sound stupid but since I've been born, my mind...|||Wouldn't the laser simply reflect off of the mirror's surface?|||The camera idea is too mainstream :tongue:. I just like the thought of governments spending billions of dollars putting space mirrors up and having another space race before realising it was a...|||Would this idea work?  I was just thinking about watching Back To The Future when the  thought hit me: if you are looking at the sun right now, you are looking  at what the sun looked like 8...|||Was bored a few days ago and decided to read about the Ship Of Theseus concept. Fascinating stuff.   Imagine you\\u00e2\\u0080\\u0099re in the year 1800 and want to build a ship out of wood  since you\\u00e2\\u0080\\u0099re bored. So...|||For the past two weeks, I've been staying up for 3 - 4 days and then sleeping for about 8 hours. Then staying awake for another 3 - 4 days. My mind goes into overdrive. It's quite an interesting...|||The Christmas adverts on TV really annoy me. They're all so happy, hyper and loud. And the kids are just plain irritating. All the people in the adverts are just so unbelievably stupid, it physically...|||Insanity wolf is the best LOL.  http://cdn.wg.uproxx.com/wp-content/uploads/2011/01/insanity-wolf.jpg|||I've been looking for a part-time job lately, and I automatically reject every single job I see on the basis that it's just not quite right for me. All the jobs are cashier positions,...|||Generally, no. I am not a very sentimental person and have problems displaying emotions. However, a few movies and TV shows always manage to make me feel sentimental. Especially moments like when the...|||Unfortunately, I no longer have the links to the websites I visited when I was searching for this stuff.   BBC - Science & Nature - Human Body and Mind - Personality type  You can try that link...|||MY NAME IS LEGION. FOR WE ARE MANY.  http://images.wikia.com/villains/images/5/53/Blackheart_Legion_Mode.jpg|||I prefer texting a lot more than calling people simply because it's cheaper, quicker, direct and therefore more efficient. Also, you don't have to waste time with pleasantries and formalities. The...|||I find it difficult not to eavesdrop since everything I hear (regardless of whether I'm listening or not) will subconsciously be filed in a section of my brain where I can access it later if I need...|||Trolling Level: Over 9000! You, my friend, deserve a medal for that post. Actually made me laugh.|||Stupid people texting me their stupid questions which they could easily have Googled and gotten an answer in less time than it takes to send a message and wait for a reply (which will never come)....|||I live life for today rather than the future and this shows empathy how exactly? I got a 12. I'd like to know how this is scored. Seems rather random, does it not?|||- LOTR Trilogy - Law Abiding Citizen - Sherlock Holmes - Johnny English - Pineapple Express - Due Date - Iron Man - Kick Ass - Any comedy film I haven't seen before which has gotten decent...|||Fellow INTJs and whoever else lurks here in the INTJ subforum, I bring forth a question from the very depths of - I've no idea why I'm being so melodramatic so I'll just get to the point.   I've...|||Are we there yet? If we were there, why the hell would I still be driving? Even worse is if I say Yes, of course we are, sarcastically, the thickos actually look outside and say Really?....|||There's no such thing as a stupid question. Do I really need to write something here?|||I pretty much hate the usual What up?, What's good? and  How's it hangin'? questions. I know it is difficult for you since you only have half a brain cell to share between you and the rest of...|||Charlie Brooker is a genius.   http://www.youtube.com/watch?v=bXOPIbb8ZjA|||- Having to stand up when any national anthem is playing. - Wearing ties. Strange thing to think that you look more professional by wearing a piece of clothing around your neck. - People saying...|||http://www.explosm.net/db/files/Comics/Rob/canyon.png|||http://d24w6bsrhbeh9d.cloudfront.net/photo/834870_700b_v2.jpg|||http://www.explosm.net/db/files/Comics/Rob/shoplifter.png|||Why does it matter?|||http://s3.amazonaws.com/kym-assets/photos/images/newsfeed/000/185/325/Hurr.PNG?1318992465|||SUPERMAN IN LONDON.  http://www.damnlol.com/i/8d66a0389d1fc8f10a8f62fa47d0b8e0.jpg|||The IT Crowd is an amazing show. Shame they're only doing one more series.|||IT'S SIMPLE. WE EAT THE BATMAN.  http://img33.imageshack.us/img33/7826/simpleog.jpg|||sanari, that made my day! David Thorne deserves a medal. :laughing:|||Found this while browsing DamnLOL. Thought you might enjoy. It's so true... http://www.damnlol.com/i/46a1f8c96b69afaa2d9be512e0b555be.jpg'\",\n          \"'3.5/10 INTP Well, academically/award wise 8.5/10, but 3.5 in general.|||Estj|||I am pre-med student currently majoring in biochemistry with a double minor in neuroscience and Spanish.  My career goal is to become a neurosurgeon, neurologist, or obtain a career in the...|||I've done it.|||Yes, do tell more about what an awful person I am.|||Oh, I agree.|||ESFJ... I like the fact that you are open about your emotions...  ENTJ.... I like the fact that you can get things done.....  There, I said it.|||Estp|||Esfp|||I was thinking the same thing :tongue:|||I happen to be quite adept at public speaking, particularly if I am interested in and/or passionate about the subject, but anyways... I am praised often for my public speaking skills despite barely...|||I am strictly heterosexual.|||Well, there seem to be quite a few good looking ESTP's.|||I'm never entirely sure what to do with my face.91126    91127|||I would like my name to be SkillandVerve|||Well, I attempt to be a fashion enthusiast. You have lovely style, and welcome =].|||4w3  http://www.youtube.com/watch?v=xSPsrvnYbMg   http://www.youtube.com/watch?v=3Iy9ZNHbnSE   http://www.youtube.com/watch?v=dmjQZm0_iCQ|||Not entirely,though I would say INFP's in particular do, in fact, get on my nerves quite often. Note, this is not an attack on INFP's, as quite a few of my closest friends are INFP's.|||Lol these are great. For me as an INTP, it would end right after *shuffles nervously.*|||I picked it :p. I assumed most INTP's would have picked it as well.|||4. You are perceptive and philosophical person. You are a unique, one soul of your kind. Next to you there's no one even slightly similar to you. You are intuitive and a bit quirky. You are often...|||You summed everything up so incredibly well.|||I to E|||Critical Reading: 770 Math: 580--Yeah, I suck at math. Writing: 790( I received a score of 12 on the essay)   Total--> 2140|||90474|||Isfp|||It's basically the same for me as well.|||My boyfriend--Type 9  http://www.youtube.com/watch?v=QdYc95wpW2s|||Clearly not. I was referring to personal experience, not my encounters with INFP's on this site.|||You scored 70% You can play hardball with the best of them! You know what you want and are not afraid to go for it \\u00e2\\u0080\\u0093 even if it means bending the rules occasionally and putting a few noses out of...|||Most INFPs I have met are dreadfully self righteous, yet believe this makes them unique, though this could be more prevalent in the younger generation as stated previously. It seems common actually....|||Gatsby: ISFP/ESFP Daisy: INTP/ISTP Tom: ESTJ myrtle: ENFP Nick: INFJ|||I'm actually quite fond of xSFP's. I suppose I could be alone on this one :tongue:|||ESFP and ENTP.|||As commonly stated in this thread, I'm also good with the abstract aspects of math. I've found that I excel at physics/mechanics and statistics, but when it comes to regular math...I'm definitely not...|||She strikes me as an INFP or an INTP.|||I'm quite lazy, but I've always excelled in school. Now I do crack down when I know a course requires a lot more effort, though I'm used to half assing it and still doing exceptional, so it can be a...|||1) What is your MBTI type?  INTP  2) What is your gender? female 3) What type(s) do you admire/respect the most? (Why?) ENTP ESTP ENTJ|||Your friends strikes me more as an ISFJ due to experiences with a few similar friends of mine.|||I can relate to this to a great extent as I am with an ESFP.|||One of my closest friends is actually an INTJ. I find myself at ease with him, though he can be a bit obsessive at times. We've never found someone so similar before, so the shock factor is still...|||It is meant to be interpreted the first way :).|||Intj|||I am an INTP, and I get along with guys more as well.|||limited.|||I'm not too particularly fond of sensors either, BUT I do like ESFPs and ISTPs. I voted for ESFJ and ISFJ. I'm not one to become irritated easily, but those two types inevitably know how to trigger...|||I agree with all your statements, and I am also close to the border of E/I. I've found ESFP's to be quite beneficial for INTPs. They are our dual match after all. My long term boyfriend happens to be...|||I'm not too fond of SFJ's.|||I feel lonely frequently, though I usually quickly get over it. This cycle, if you will, continues back and forth often though.|||My boyfriend of two years is an ESTJ. You Guardians are lovely =].'\"\n        ],\n        \"semantic_type\": \"\",\n        \"description\": \"\"\n      }\n    }\n  ]\n}"
            }
          },
          "metadata": {},
          "execution_count": 46
        }
      ],
      "source": [
        "data = pd.read_csv('tink.csv', encoding=\"utf-8\")\n",
        "data.head()"
      ]
    },
    {
      "cell_type": "code",
      "execution_count": 44,
      "id": "EV1bVz5t7PBV",
      "metadata": {
        "id": "EV1bVz5t7PBV",
        "colab": {
          "base_uri": "https://localhost:8080/"
        },
        "outputId": "8e98a3e4-d601-4007-e9b7-262ec0703a2f"
      },
      "outputs": [
        {
          "output_type": "execute_result",
          "data": {
            "text/plain": [
              "CLASS\n",
              "INFP    1878\n",
              "INFJ    1503\n",
              "INTP    1341\n",
              "INTJ    1119\n",
              "Name: count, dtype: int64"
            ]
          },
          "metadata": {},
          "execution_count": 44
        }
      ],
      "source": [
        "data['CLASS'].value_counts()"
      ]
    },
    {
      "cell_type": "markdown",
      "id": "6k9ffRA47PBV",
      "metadata": {
        "id": "6k9ffRA47PBV"
      },
      "source": [
        "## Define the inputs and the target"
      ]
    },
    {
      "cell_type": "code",
      "execution_count": 47,
      "id": "0ucXGHwE7PBW",
      "metadata": {
        "id": "0ucXGHwE7PBW"
      },
      "outputs": [],
      "source": [
        "inputs = data['CONTENT']\n",
        "target = data['CLASS']"
      ]
    },
    {
      "cell_type": "markdown",
      "id": "mYnOkAMM7PBX",
      "metadata": {
        "id": "mYnOkAMM7PBX"
      },
      "source": [
        "## Split the transformed data into training and tesitng"
      ]
    },
    {
      "cell_type": "markdown",
      "id": "1qZcDEQ37PBX",
      "metadata": {
        "id": "1qZcDEQ37PBX"
      },
      "source": [
        "* Perform an 80:20 split - 20% of the data should be dedicated to testing.\n",
        "* Set the random state to 365.\n",
        "* Make sure that there is a fair distribution of the representatives from each class."
      ]
    },
    {
      "cell_type": "code",
      "execution_count": 48,
      "id": "ZayRtxgi7PBX",
      "metadata": {
        "id": "ZayRtxgi7PBX"
      },
      "outputs": [],
      "source": [
        "x_train, x_test, y_train, y_test = train_test_split(inputs, target,\n",
        "                                                    test_size=0.3,\n",
        "                                                    random_state=365,\n",
        "                                                    stratify = target)"
      ]
    },
    {
      "cell_type": "markdown",
      "id": "T67JXYMi7PBW",
      "metadata": {
        "id": "T67JXYMi7PBW"
      },
      "source": [
        "## Transform the text from the data using CountVectorizer"
      ]
    },
    {
      "cell_type": "code",
      "source": [
        "# Create an instance of the vectorizer class.\n",
        "vectorizer = CountVectorizer()\n",
        "x_train_transf = vectorizer.fit_transform(x_train)\n",
        "x_test_transf = vectorizer.transform(x_test)"
      ],
      "metadata": {
        "id": "uTA-wAQuJgC0"
      },
      "id": "uTA-wAQuJgC0",
      "execution_count": 49,
      "outputs": []
    },
    {
      "cell_type": "markdown",
      "id": "gjL5B12Q7PBX",
      "metadata": {
        "id": "gjL5B12Q7PBX"
      },
      "source": [
        "## Create a Naïve Bayes model"
      ]
    },
    {
      "cell_type": "markdown",
      "id": "6-EBGQfs7PBX",
      "metadata": {
        "id": "6-EBGQfs7PBX"
      },
      "source": [
        "* Create an instance of the Naïve Bayes class.\n",
        "* Fit the data to the model."
      ]
    },
    {
      "cell_type": "code",
      "execution_count": 50,
      "id": "QJmihjPd7PBX",
      "metadata": {
        "id": "QJmihjPd7PBX",
        "colab": {
          "base_uri": "https://localhost:8080/",
          "height": 75
        },
        "outputId": "bc909ad9-458b-4f6b-fffc-d4524990894a"
      },
      "outputs": [
        {
          "output_type": "execute_result",
          "data": {
            "text/plain": [
              "MultinomialNB()"
            ],
            "text/html": [
              "<style>#sk-container-id-2 {color: black;background-color: white;}#sk-container-id-2 pre{padding: 0;}#sk-container-id-2 div.sk-toggleable {background-color: white;}#sk-container-id-2 label.sk-toggleable__label {cursor: pointer;display: block;width: 100%;margin-bottom: 0;padding: 0.3em;box-sizing: border-box;text-align: center;}#sk-container-id-2 label.sk-toggleable__label-arrow:before {content: \"▸\";float: left;margin-right: 0.25em;color: #696969;}#sk-container-id-2 label.sk-toggleable__label-arrow:hover:before {color: black;}#sk-container-id-2 div.sk-estimator:hover label.sk-toggleable__label-arrow:before {color: black;}#sk-container-id-2 div.sk-toggleable__content {max-height: 0;max-width: 0;overflow: hidden;text-align: left;background-color: #f0f8ff;}#sk-container-id-2 div.sk-toggleable__content pre {margin: 0.2em;color: black;border-radius: 0.25em;background-color: #f0f8ff;}#sk-container-id-2 input.sk-toggleable__control:checked~div.sk-toggleable__content {max-height: 200px;max-width: 100%;overflow: auto;}#sk-container-id-2 input.sk-toggleable__control:checked~label.sk-toggleable__label-arrow:before {content: \"▾\";}#sk-container-id-2 div.sk-estimator input.sk-toggleable__control:checked~label.sk-toggleable__label {background-color: #d4ebff;}#sk-container-id-2 div.sk-label input.sk-toggleable__control:checked~label.sk-toggleable__label {background-color: #d4ebff;}#sk-container-id-2 input.sk-hidden--visually {border: 0;clip: rect(1px 1px 1px 1px);clip: rect(1px, 1px, 1px, 1px);height: 1px;margin: -1px;overflow: hidden;padding: 0;position: absolute;width: 1px;}#sk-container-id-2 div.sk-estimator {font-family: monospace;background-color: #f0f8ff;border: 1px dotted black;border-radius: 0.25em;box-sizing: border-box;margin-bottom: 0.5em;}#sk-container-id-2 div.sk-estimator:hover {background-color: #d4ebff;}#sk-container-id-2 div.sk-parallel-item::after {content: \"\";width: 100%;border-bottom: 1px solid gray;flex-grow: 1;}#sk-container-id-2 div.sk-label:hover label.sk-toggleable__label {background-color: #d4ebff;}#sk-container-id-2 div.sk-serial::before {content: \"\";position: absolute;border-left: 1px solid gray;box-sizing: border-box;top: 0;bottom: 0;left: 50%;z-index: 0;}#sk-container-id-2 div.sk-serial {display: flex;flex-direction: column;align-items: center;background-color: white;padding-right: 0.2em;padding-left: 0.2em;position: relative;}#sk-container-id-2 div.sk-item {position: relative;z-index: 1;}#sk-container-id-2 div.sk-parallel {display: flex;align-items: stretch;justify-content: center;background-color: white;position: relative;}#sk-container-id-2 div.sk-item::before, #sk-container-id-2 div.sk-parallel-item::before {content: \"\";position: absolute;border-left: 1px solid gray;box-sizing: border-box;top: 0;bottom: 0;left: 50%;z-index: -1;}#sk-container-id-2 div.sk-parallel-item {display: flex;flex-direction: column;z-index: 1;position: relative;background-color: white;}#sk-container-id-2 div.sk-parallel-item:first-child::after {align-self: flex-end;width: 50%;}#sk-container-id-2 div.sk-parallel-item:last-child::after {align-self: flex-start;width: 50%;}#sk-container-id-2 div.sk-parallel-item:only-child::after {width: 0;}#sk-container-id-2 div.sk-dashed-wrapped {border: 1px dashed gray;margin: 0 0.4em 0.5em 0.4em;box-sizing: border-box;padding-bottom: 0.4em;background-color: white;}#sk-container-id-2 div.sk-label label {font-family: monospace;font-weight: bold;display: inline-block;line-height: 1.2em;}#sk-container-id-2 div.sk-label-container {text-align: center;}#sk-container-id-2 div.sk-container {/* jupyter's `normalize.less` sets `[hidden] { display: none; }` but bootstrap.min.css set `[hidden] { display: none !important; }` so we also need the `!important` here to be able to override the default hidden behavior on the sphinx rendered scikit-learn.org. See: https://github.com/scikit-learn/scikit-learn/issues/21755 */display: inline-block !important;position: relative;}#sk-container-id-2 div.sk-text-repr-fallback {display: none;}</style><div id=\"sk-container-id-2\" class=\"sk-top-container\"><div class=\"sk-text-repr-fallback\"><pre>MultinomialNB()</pre><b>In a Jupyter environment, please rerun this cell to show the HTML representation or trust the notebook. <br />On GitHub, the HTML representation is unable to render, please try loading this page with nbviewer.org.</b></div><div class=\"sk-container\" hidden><div class=\"sk-item\"><div class=\"sk-estimator sk-toggleable\"><input class=\"sk-toggleable__control sk-hidden--visually\" id=\"sk-estimator-id-2\" type=\"checkbox\" checked><label for=\"sk-estimator-id-2\" class=\"sk-toggleable__label sk-toggleable__label-arrow\">MultinomialNB</label><div class=\"sk-toggleable__content\"><pre>MultinomialNB()</pre></div></div></div></div></div>"
            ]
          },
          "metadata": {},
          "execution_count": 50
        }
      ],
      "source": [
        "clf = MultinomialNB()\n",
        "clf.fit(x_train_transf, y_train)"
      ]
    },
    {
      "cell_type": "markdown",
      "id": "ZFYrVae37PBY",
      "metadata": {
        "id": "ZFYrVae37PBY"
      },
      "source": [
        "## Make predictions on the test data"
      ]
    },
    {
      "cell_type": "code",
      "execution_count": 51,
      "id": "HpKCtFP97PBY",
      "metadata": {
        "id": "HpKCtFP97PBY"
      },
      "outputs": [],
      "source": [
        "y_test_pred = clf.predict(x_test_transf)"
      ]
    },
    {
      "cell_type": "markdown",
      "id": "SJc30o517PBY",
      "metadata": {
        "id": "SJc30o517PBY"
      },
      "source": [
        "## Create a confusion matrix"
      ]
    },
    {
      "cell_type": "code",
      "execution_count": 53,
      "id": "KJqBew2Y7PBY",
      "metadata": {
        "id": "KJqBew2Y7PBY",
        "colab": {
          "base_uri": "https://localhost:8080/",
          "height": 449
        },
        "outputId": "5a58aa0f-353f-4c8c-ddbb-dadcee76b4e8"
      },
      "outputs": [
        {
          "output_type": "display_data",
          "data": {
            "text/plain": [
              "<Figure size 640x480 with 2 Axes>"
            ],
            "image/png": "[encoded data removed]"
          },
          "metadata": {}
        }
      ],
      "source": [
        "\n",
        "sns.reset_orig()\n",
        "\n",
        "ConfusionMatrixDisplay.from_predictions(\n",
        "    y_test, y_test_pred,\n",
        "    labels = clf.classes_,\n",
        "    cmap = 'Greens'\n",
        ");"
      ]
    },
    {
      "cell_type": "markdown",
      "id": "cJdtPhyV7PBY",
      "metadata": {
        "id": "cJdtPhyV7PBY"
      },
      "source": [
        "## Print a classification report"
      ]
    },
    {
      "cell_type": "code",
      "source": [
        "print(\"Unique values in y_test:\", sorted(set(y_test)))\n",
        "#print(\"Unique values in y_test_pred:\", sorted(set(y_test_pred)))\n"
      ],
      "metadata": {
        "colab": {
          "base_uri": "https://localhost:8080/"
        },
        "id": "jJk82jgvJwJZ",
        "outputId": "903579a5-3965-487a-ef46-adbbb271ad01"
      },
      "id": "jJk82jgvJwJZ",
      "execution_count": 57,
      "outputs": [
        {
          "output_type": "stream",
          "name": "stdout",
          "text": [
            "Unique values in y_test: ['INFJ', 'INFP', 'INTJ', 'INTP']\n"
          ]
        }
      ]
    },
    {
      "cell_type": "code",
      "execution_count": 56,
      "id": "dSn2We0Q7PBY",
      "metadata": {
        "id": "dSn2We0Q7PBY",
        "colab": {
          "base_uri": "https://localhost:8080/"
        },
        "outputId": "0b2193b6-30c5-4413-db6d-2b2342ca8fd4"
      },
      "outputs": [
        {
          "output_type": "stream",
          "name": "stdout",
          "text": [
            "              precision    recall  f1-score   support\n",
            "\n",
            "        INFJ       0.60      0.55      0.57       451\n",
            "        INFP       0.54      0.87      0.67       564\n",
            "        INTJ       0.82      0.30      0.44       336\n",
            "        INTP       0.66      0.51      0.58       402\n",
            "\n",
            "    accuracy                           0.59      1753\n",
            "   macro avg       0.65      0.56      0.56      1753\n",
            "weighted avg       0.64      0.59      0.58      1753\n",
            "\n"
          ]
        }
      ],
      "source": [
        "\n",
        "print(classification_report(y_test, y_test_pred, target_names = ['INFJ', 'INFP', 'INTJ', 'INTP'], zero_division = 0))"
      ]
    }
  ],
  "metadata": {
    "colab": {
      "provenance": [],
      "include_colab_link": true
    },
    "kernelspec": {
      "display_name": "Python 3",
      "language": "python",
      "name": "python3"
    },
    "language_info": {
      "codemirror_mode": {
        "name": "ipython",
        "version": 3
      },
      "file_extension": ".py",
      "mimetype": "text/x-python",
      "name": "python",
      "nbconvert_exporter": "python",
      "pygments_lexer": "ipython3",
      "version": "3.7.6"
    }
  },
  "nbformat": 4,
  "nbformat_minor": 5
}