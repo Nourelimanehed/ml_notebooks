{
  "cells": [
    {
      "cell_type": "markdown",
      "metadata": {
        "id": "view-in-github",
        "colab_type": "text"
      },
      "source": [
        "<a href=\"https://colab.research.google.com/github/Nourelimanehed/ml_notebooks/blob/main/Chirper.ipynb\" target=\"_parent\"><img src=\"https://colab.research.google.com/assets/colab-badge.svg\" alt=\"Open In Colab\"/></a>"
      ]
    },
    {
      "cell_type": "markdown",
      "id": "4b8ea9de",
      "metadata": {
        "id": "4b8ea9de"
      },
      "source": [
        "# Naïve Bayes Classifier"
      ]
    },
    {
      "cell_type": "markdown",
      "id": "003f5551",
      "metadata": {
        "id": "003f5551"
      },
      "source": [
        "## Import the necessary libraires"
      ]
    },
    {
      "cell_type": "code",
      "execution_count": 1,
      "id": "6bc44a2e",
      "metadata": {
        "id": "6bc44a2e"
      },
      "outputs": [],
      "source": [
        "# A module for handling data\n",
        "import pandas as pd\n",
        "# A module that helps finding all pathnames that match a certain pattern\n",
        "import glob\n",
        "\n",
        "# A class that will be used to count the number of times a word has occurred in a text\n",
        "from sklearn.feature_extraction.text import CountVectorizer\n",
        "\n",
        "# A method used to split the dataset into training and testing\n",
        "from sklearn.model_selection import train_test_split\n",
        "\n",
        "# The multinomial type of the Naive Bayes classfier\n",
        "from sklearn.naive_bayes import MultinomialNB, ComplementNB\n",
        "\n",
        "# Importing different metrics that would allow us to evaluate our model\n",
        "from sklearn.metrics import classification_report, ConfusionMatrixDisplay\n",
        "\n",
        "# Python's plotting module.\n",
        "# We improve the graphics by overriding the default matplotlib styles with those of seaborn\n",
        "import matplotlib.pyplot as plt\n",
        "import seaborn as sns\n",
        "\n",
        "# The Python package for scientific computing\n",
        "import numpy as np"
      ]
    },
    {
      "cell_type": "markdown",
      "id": "c15f578d",
      "metadata": {
        "id": "c15f578d"
      },
      "source": [
        "## Read the data"
      ]
    },
    {
      "cell_type": "code",
      "execution_count": 5,
      "id": "5521fb77",
      "metadata": {
        "colab": {
          "base_uri": "https://localhost:8080/",
          "height": 206
        },
        "id": "5521fb77",
        "outputId": "69b39cf0-7494-40fb-e48b-9a3525eea60f"
      },
      "outputs": [
        {
          "output_type": "execute_result",
          "data": {
            "text/plain": [
              "   Target                                               Text\n",
              "0       0  @switchfoot http://twitpic.com/2y1zl - Awww, t...\n",
              "1       0  is upset that he can't update his Facebook by ...\n",
              "2       0  @Kenichan I dived many times for the ball. Man...\n",
              "3       0    my whole body feels itchy and like its on fire \n",
              "4       0  @nationwideclass no, it's not behaving at all...."
            ],
            "text/html": [
              "\n",
              "  <div id=\"df-60204372-5627-4ad6-a8ec-c7496327db5b\" class=\"colab-df-container\">\n",
              "    <div>\n",
              "<style scoped>\n",
              "    .dataframe tbody tr th:only-of-type {\n",
              "        vertical-align: middle;\n",
              "    }\n",
              "\n",
              "    .dataframe tbody tr th {\n",
              "        vertical-align: top;\n",
              "    }\n",
              "\n",
              "    .dataframe thead th {\n",
              "        text-align: right;\n",
              "    }\n",
              "</style>\n",
              "<table border=\"1\" class=\"dataframe\">\n",
              "  <thead>\n",
              "    <tr style=\"text-align: right;\">\n",
              "      <th></th>\n",
              "      <th>Target</th>\n",
              "      <th>Text</th>\n",
              "    </tr>\n",
              "  </thead>\n",
              "  <tbody>\n",
              "    <tr>\n",
              "      <th>0</th>\n",
              "      <td>0</td>\n",
              "      <td>@switchfoot http://twitpic.com/2y1zl - Awww, t...</td>\n",
              "    </tr>\n",
              "    <tr>\n",
              "      <th>1</th>\n",
              "      <td>0</td>\n",
              "      <td>is upset that he can't update his Facebook by ...</td>\n",
              "    </tr>\n",
              "    <tr>\n",
              "      <th>2</th>\n",
              "      <td>0</td>\n",
              "      <td>@Kenichan I dived many times for the ball. Man...</td>\n",
              "    </tr>\n",
              "    <tr>\n",
              "      <th>3</th>\n",
              "      <td>0</td>\n",
              "      <td>my whole body feels itchy and like its on fire</td>\n",
              "    </tr>\n",
              "    <tr>\n",
              "      <th>4</th>\n",
              "      <td>0</td>\n",
              "      <td>@nationwideclass no, it's not behaving at all....</td>\n",
              "    </tr>\n",
              "  </tbody>\n",
              "</table>\n",
              "</div>\n",
              "    <div class=\"colab-df-buttons\">\n",
              "\n",
              "  <div class=\"colab-df-container\">\n",
              "    <button class=\"colab-df-convert\" onclick=\"convertToInteractive('df-60204372-5627-4ad6-a8ec-c7496327db5b')\"\n",
              "            title=\"Convert this dataframe to an interactive table.\"\n",
              "            style=\"display:none;\">\n",
              "\n",
              "  <svg xmlns=\"http://www.w3.org/2000/svg\" height=\"24px\" viewBox=\"0 -960 960 960\">\n",
              "    <path d=\"M120-120v-720h720v720H120Zm60-500h600v-160H180v160Zm220 220h160v-160H400v160Zm0 220h160v-160H400v160ZM180-400h160v-160H180v160Zm440 0h160v-160H620v160ZM180-180h160v-160H180v160Zm440 0h160v-160H620v160Z\"/>\n",
              "  </svg>\n",
              "    </button>\n",
              "\n",
              "  <style>\n",
              "    .colab-df-container {\n",
              "      display:flex;\n",
              "      gap: 12px;\n",
              "    }\n",
              "\n",
              "    .colab-df-convert {\n",
              "      background-color: #E8F0FE;\n",
              "      border: none;\n",
              "      border-radius: 50%;\n",
              "      cursor: pointer;\n",
              "      display: none;\n",
              "      fill: #1967D2;\n",
              "      height: 32px;\n",
              "      padding: 0 0 0 0;\n",
              "      width: 32px;\n",
              "    }\n",
              "\n",
              "    .colab-df-convert:hover {\n",
              "      background-color: #E2EBFA;\n",
              "      box-shadow: 0px 1px 2px rgba(60, 64, 67, 0.3), 0px 1px 3px 1px rgba(60, 64, 67, 0.15);\n",
              "      fill: #174EA6;\n",
              "    }\n",
              "\n",
              "    .colab-df-buttons div {\n",
              "      margin-bottom: 4px;\n",
              "    }\n",
              "\n",
              "    [theme=dark] .colab-df-convert {\n",
              "      background-color: #3B4455;\n",
              "      fill: #D2E3FC;\n",
              "    }\n",
              "\n",
              "    [theme=dark] .colab-df-convert:hover {\n",
              "      background-color: #434B5C;\n",
              "      box-shadow: 0px 1px 3px 1px rgba(0, 0, 0, 0.15);\n",
              "      filter: drop-shadow(0px 1px 2px rgba(0, 0, 0, 0.3));\n",
              "      fill: #FFFFFF;\n",
              "    }\n",
              "  </style>\n",
              "\n",
              "    <script>\n",
              "      const buttonEl =\n",
              "        document.querySelector('#df-60204372-5627-4ad6-a8ec-c7496327db5b button.colab-df-convert');\n",
              "      buttonEl.style.display =\n",
              "        google.colab.kernel.accessAllowed ? 'block' : 'none';\n",
              "\n",
              "      async function convertToInteractive(key) {\n",
              "        const element = document.querySelector('#df-60204372-5627-4ad6-a8ec-c7496327db5b');\n",
              "        const dataTable =\n",
              "          await google.colab.kernel.invokeFunction('convertToInteractive',\n",
              "                                                    [key], {});\n",
              "        if (!dataTable) return;\n",
              "\n",
              "        const docLinkHtml = 'Like what you see? Visit the ' +\n",
              "          '<a target=\"_blank\" href=https://colab.research.google.com/notebooks/data_table.ipynb>data table notebook</a>'\n",
              "          + ' to learn more about interactive tables.';\n",
              "        element.innerHTML = '';\n",
              "        dataTable['output_type'] = 'display_data';\n",
              "        await google.colab.output.renderOutput(dataTable, element);\n",
              "        const docLink = document.createElement('div');\n",
              "        docLink.innerHTML = docLinkHtml;\n",
              "        element.appendChild(docLink);\n",
              "      }\n",
              "    </script>\n",
              "  </div>\n",
              "\n",
              "\n",
              "<div id=\"df-aace98f9-bc4a-49c1-b333-a2973f3e0a11\">\n",
              "  <button class=\"colab-df-quickchart\" onclick=\"quickchart('df-aace98f9-bc4a-49c1-b333-a2973f3e0a11')\"\n",
              "            title=\"Suggest charts\"\n",
              "            style=\"display:none;\">\n",
              "\n",
              "<svg xmlns=\"http://www.w3.org/2000/svg\" height=\"24px\"viewBox=\"0 0 24 24\"\n",
              "     width=\"24px\">\n",
              "    <g>\n",
              "        <path d=\"M19 3H5c-1.1 0-2 .9-2 2v14c0 1.1.9 2 2 2h14c1.1 0 2-.9 2-2V5c0-1.1-.9-2-2-2zM9 17H7v-7h2v7zm4 0h-2V7h2v10zm4 0h-2v-4h2v4z\"/>\n",
              "    </g>\n",
              "</svg>\n",
              "  </button>\n",
              "\n",
              "<style>\n",
              "  .colab-df-quickchart {\n",
              "      --bg-color: #E8F0FE;\n",
              "      --fill-color: #1967D2;\n",
              "      --hover-bg-color: #E2EBFA;\n",
              "      --hover-fill-color: #174EA6;\n",
              "      --disabled-fill-color: #AAA;\n",
              "      --disabled-bg-color: #DDD;\n",
              "  }\n",
              "\n",
              "  [theme=dark] .colab-df-quickchart {\n",
              "      --bg-color: #3B4455;\n",
              "      --fill-color: #D2E3FC;\n",
              "      --hover-bg-color: #434B5C;\n",
              "      --hover-fill-color: #FFFFFF;\n",
              "      --disabled-bg-color: #3B4455;\n",
              "      --disabled-fill-color: #666;\n",
              "  }\n",
              "\n",
              "  .colab-df-quickchart {\n",
              "    background-color: var(--bg-color);\n",
              "    border: none;\n",
              "    border-radius: 50%;\n",
              "    cursor: pointer;\n",
              "    display: none;\n",
              "    fill: var(--fill-color);\n",
              "    height: 32px;\n",
              "    padding: 0;\n",
              "    width: 32px;\n",
              "  }\n",
              "\n",
              "  .colab-df-quickchart:hover {\n",
              "    background-color: var(--hover-bg-color);\n",
              "    box-shadow: 0 1px 2px rgba(60, 64, 67, 0.3), 0 1px 3px 1px rgba(60, 64, 67, 0.15);\n",
              "    fill: var(--button-hover-fill-color);\n",
              "  }\n",
              "\n",
              "  .colab-df-quickchart-complete:disabled,\n",
              "  .colab-df-quickchart-complete:disabled:hover {\n",
              "    background-color: var(--disabled-bg-color);\n",
              "    fill: var(--disabled-fill-color);\n",
              "    box-shadow: none;\n",
              "  }\n",
              "\n",
              "  .colab-df-spinner {\n",
              "    border: 2px solid var(--fill-color);\n",
              "    border-color: transparent;\n",
              "    border-bottom-color: var(--fill-color);\n",
              "    animation:\n",
              "      spin 1s steps(1) infinite;\n",
              "  }\n",
              "\n",
              "  @keyframes spin {\n",
              "    0% {\n",
              "      border-color: transparent;\n",
              "      border-bottom-color: var(--fill-color);\n",
              "      border-left-color: var(--fill-color);\n",
              "    }\n",
              "    20% {\n",
              "      border-color: transparent;\n",
              "      border-left-color: var(--fill-color);\n",
              "      border-top-color: var(--fill-color);\n",
              "    }\n",
              "    30% {\n",
              "      border-color: transparent;\n",
              "      border-left-color: var(--fill-color);\n",
              "      border-top-color: var(--fill-color);\n",
              "      border-right-color: var(--fill-color);\n",
              "    }\n",
              "    40% {\n",
              "      border-color: transparent;\n",
              "      border-right-color: var(--fill-color);\n",
              "      border-top-color: var(--fill-color);\n",
              "    }\n",
              "    60% {\n",
              "      border-color: transparent;\n",
              "      border-right-color: var(--fill-color);\n",
              "    }\n",
              "    80% {\n",
              "      border-color: transparent;\n",
              "      border-right-color: var(--fill-color);\n",
              "      border-bottom-color: var(--fill-color);\n",
              "    }\n",
              "    90% {\n",
              "      border-color: transparent;\n",
              "      border-bottom-color: var(--fill-color);\n",
              "    }\n",
              "  }\n",
              "</style>\n",
              "\n",
              "  <script>\n",
              "    async function quickchart(key) {\n",
              "      const quickchartButtonEl =\n",
              "        document.querySelector('#' + key + ' button');\n",
              "      quickchartButtonEl.disabled = true;  // To prevent multiple clicks.\n",
              "      quickchartButtonEl.classList.add('colab-df-spinner');\n",
              "      try {\n",
              "        const charts = await google.colab.kernel.invokeFunction(\n",
              "            'suggestCharts', [key], {});\n",
              "      } catch (error) {\n",
              "        console.error('Error during call to suggestCharts:', error);\n",
              "      }\n",
              "      quickchartButtonEl.classList.remove('colab-df-spinner');\n",
              "      quickchartButtonEl.classList.add('colab-df-quickchart-complete');\n",
              "    }\n",
              "    (() => {\n",
              "      let quickchartButtonEl =\n",
              "        document.querySelector('#df-aace98f9-bc4a-49c1-b333-a2973f3e0a11 button');\n",
              "      quickchartButtonEl.style.display =\n",
              "        google.colab.kernel.accessAllowed ? 'block' : 'none';\n",
              "    })();\n",
              "  </script>\n",
              "</div>\n",
              "\n",
              "    </div>\n",
              "  </div>\n"
            ],
            "application/vnd.google.colaboratory.intrinsic+json": {
              "type": "dataframe",
              "variable_name": "data",
              "summary": "{\n  \"name\": \"data\",\n  \"rows\": 10000,\n  \"fields\": [\n    {\n      \"column\": \"Target\",\n      \"properties\": {\n        \"dtype\": \"number\",\n        \"std\": 0,\n        \"min\": 0,\n        \"max\": 1,\n        \"num_unique_values\": 2,\n        \"samples\": [\n          1,\n          0\n        ],\n        \"semantic_type\": \"\",\n        \"description\": \"\"\n      }\n    },\n    {\n      \"column\": \"Text\",\n      \"properties\": {\n        \"dtype\": \"string\",\n        \"num_unique_values\": 9979,\n        \"samples\": [\n          \"...Sweet Dreams!! \",\n          \"@elliesarah When we were in Japan, they had these cotton robes that we wore after we showered. So comfortable and warm \"\n        ],\n        \"semantic_type\": \"\",\n        \"description\": \"\"\n      }\n    }\n  ]\n}"
            }
          },
          "metadata": {},
          "execution_count": 5
        }
      ],
      "source": [
        "data = pd.read_csv('chirper.csv', encoding = \"ISO-8859-1\").drop(['User','IDS'\t,'Date','Flag'], axis =1)\n",
        "data.head()"
      ]
    },
    {
      "cell_type": "code",
      "execution_count": 6,
      "id": "1d423d13",
      "metadata": {
        "colab": {
          "base_uri": "https://localhost:8080/"
        },
        "id": "1d423d13",
        "outputId": "d352734a-25ac-4dae-9aad-8489e26440c0"
      },
      "outputs": [
        {
          "output_type": "execute_result",
          "data": {
            "text/plain": [
              "Target\n",
              "1    9500\n",
              "0     500\n",
              "Name: count, dtype: int64"
            ]
          },
          "metadata": {},
          "execution_count": 6
        }
      ],
      "source": [
        "data['Target'].value_counts()"
      ]
    },
    {
      "cell_type": "markdown",
      "id": "4927caea",
      "metadata": {
        "id": "4927caea"
      },
      "source": [
        "## Define the inputs and the target"
      ]
    },
    {
      "cell_type": "markdown",
      "id": "800dd9ce",
      "metadata": {
        "id": "800dd9ce"
      },
      "source": [
        "Identify the **relevant** columns and declare the variables below."
      ]
    },
    {
      "cell_type": "code",
      "execution_count": 7,
      "id": "e843c8bc",
      "metadata": {
        "id": "e843c8bc"
      },
      "outputs": [],
      "source": [
        "inputs = data['Text']\n",
        "target = data['Target']"
      ]
    },
    {
      "cell_type": "markdown",
      "id": "46494be2",
      "metadata": {
        "id": "46494be2"
      },
      "source": [
        "## Split the data into training and tesitng"
      ]
    },
    {
      "cell_type": "markdown",
      "id": "a4e3400c",
      "metadata": {
        "id": "a4e3400c"
      },
      "source": [
        "* Perform a 70:30 split - 30% of the data should be dedicated to testing.\n",
        "* Set the random state to 365.\n",
        "* Make sure that there is a fair distribution of the representatives from each class."
      ]
    },
    {
      "cell_type": "markdown",
      "source": [],
      "metadata": {
        "id": "T-ygVe1EFB3e"
      },
      "id": "T-ygVe1EFB3e"
    },
    {
      "cell_type": "code",
      "execution_count": 8,
      "id": "b09d5c83",
      "metadata": {
        "id": "b09d5c83"
      },
      "outputs": [],
      "source": [
        "x_train, x_test, y_train, y_test = train_test_split(inputs, target,\n",
        "                                                    test_size=0.3,\n",
        "                                                    random_state=365,\n",
        "                                                    stratify = target)"
      ]
    },
    {
      "cell_type": "markdown",
      "id": "a3643f04",
      "metadata": {
        "id": "a3643f04"
      },
      "source": [
        "## Transform the training and testing inputs using CountVectorizer"
      ]
    },
    {
      "cell_type": "code",
      "execution_count": 9,
      "id": "c88b166b",
      "metadata": {
        "id": "c88b166b"
      },
      "outputs": [],
      "source": [
        "# Create an instance of the vectorizer class.\n",
        "vectorizer = CountVectorizer()\n",
        "# Apply the fit_transform() method on the training data and the transform() method on the test data.\n",
        "# Note that we split the data *before* applying the 'fit_tranform()' method!\n",
        "# The 'fit_transform()' method is to be applied *only* on the training data!\n",
        "x_train_transf = vectorizer.fit_transform(x_train)\n",
        "x_test_transf = vectorizer.transform(x_test)"
      ]
    },
    {
      "cell_type": "markdown",
      "id": "6ae0e60b",
      "metadata": {
        "id": "6ae0e60b"
      },
      "source": [
        "## Create a Naïve Bayes model"
      ]
    },
    {
      "cell_type": "markdown",
      "id": "fc6e4c6f",
      "metadata": {
        "id": "fc6e4c6f"
      },
      "source": [
        "* Create an instance of the Naïve Bayes class.\n",
        "* Fit the data to the model."
      ]
    },
    {
      "cell_type": "code",
      "execution_count": 10,
      "id": "db208c80",
      "metadata": {
        "colab": {
          "base_uri": "https://localhost:8080/",
          "height": 75
        },
        "id": "db208c80",
        "outputId": "538649ee-5596-4c63-bd15-486395b82bba"
      },
      "outputs": [
        {
          "output_type": "execute_result",
          "data": {
            "text/plain": [
              "MultinomialNB()"
            ],
            "text/html": [
              "<style>#sk-container-id-1 {color: black;background-color: white;}#sk-container-id-1 pre{padding: 0;}#sk-container-id-1 div.sk-toggleable {background-color: white;}#sk-container-id-1 label.sk-toggleable__label {cursor: pointer;display: block;width: 100%;margin-bottom: 0;padding: 0.3em;box-sizing: border-box;text-align: center;}#sk-container-id-1 label.sk-toggleable__label-arrow:before {content: \"▸\";float: left;margin-right: 0.25em;color: #696969;}#sk-container-id-1 label.sk-toggleable__label-arrow:hover:before {color: black;}#sk-container-id-1 div.sk-estimator:hover label.sk-toggleable__label-arrow:before {color: black;}#sk-container-id-1 div.sk-toggleable__content {max-height: 0;max-width: 0;overflow: hidden;text-align: left;background-color: #f0f8ff;}#sk-container-id-1 div.sk-toggleable__content pre {margin: 0.2em;color: black;border-radius: 0.25em;background-color: #f0f8ff;}#sk-container-id-1 input.sk-toggleable__control:checked~div.sk-toggleable__content {max-height: 200px;max-width: 100%;overflow: auto;}#sk-container-id-1 input.sk-toggleable__control:checked~label.sk-toggleable__label-arrow:before {content: \"▾\";}#sk-container-id-1 div.sk-estimator input.sk-toggleable__control:checked~label.sk-toggleable__label {background-color: #d4ebff;}#sk-container-id-1 div.sk-label input.sk-toggleable__control:checked~label.sk-toggleable__label {background-color: #d4ebff;}#sk-container-id-1 input.sk-hidden--visually {border: 0;clip: rect(1px 1px 1px 1px);clip: rect(1px, 1px, 1px, 1px);height: 1px;margin: -1px;overflow: hidden;padding: 0;position: absolute;width: 1px;}#sk-container-id-1 div.sk-estimator {font-family: monospace;background-color: #f0f8ff;border: 1px dotted black;border-radius: 0.25em;box-sizing: border-box;margin-bottom: 0.5em;}#sk-container-id-1 div.sk-estimator:hover {background-color: #d4ebff;}#sk-container-id-1 div.sk-parallel-item::after {content: \"\";width: 100%;border-bottom: 1px solid gray;flex-grow: 1;}#sk-container-id-1 div.sk-label:hover label.sk-toggleable__label {background-color: #d4ebff;}#sk-container-id-1 div.sk-serial::before {content: \"\";position: absolute;border-left: 1px solid gray;box-sizing: border-box;top: 0;bottom: 0;left: 50%;z-index: 0;}#sk-container-id-1 div.sk-serial {display: flex;flex-direction: column;align-items: center;background-color: white;padding-right: 0.2em;padding-left: 0.2em;position: relative;}#sk-container-id-1 div.sk-item {position: relative;z-index: 1;}#sk-container-id-1 div.sk-parallel {display: flex;align-items: stretch;justify-content: center;background-color: white;position: relative;}#sk-container-id-1 div.sk-item::before, #sk-container-id-1 div.sk-parallel-item::before {content: \"\";position: absolute;border-left: 1px solid gray;box-sizing: border-box;top: 0;bottom: 0;left: 50%;z-index: -1;}#sk-container-id-1 div.sk-parallel-item {display: flex;flex-direction: column;z-index: 1;position: relative;background-color: white;}#sk-container-id-1 div.sk-parallel-item:first-child::after {align-self: flex-end;width: 50%;}#sk-container-id-1 div.sk-parallel-item:last-child::after {align-self: flex-start;width: 50%;}#sk-container-id-1 div.sk-parallel-item:only-child::after {width: 0;}#sk-container-id-1 div.sk-dashed-wrapped {border: 1px dashed gray;margin: 0 0.4em 0.5em 0.4em;box-sizing: border-box;padding-bottom: 0.4em;background-color: white;}#sk-container-id-1 div.sk-label label {font-family: monospace;font-weight: bold;display: inline-block;line-height: 1.2em;}#sk-container-id-1 div.sk-label-container {text-align: center;}#sk-container-id-1 div.sk-container {/* jupyter's `normalize.less` sets `[hidden] { display: none; }` but bootstrap.min.css set `[hidden] { display: none !important; }` so we also need the `!important` here to be able to override the default hidden behavior on the sphinx rendered scikit-learn.org. See: https://github.com/scikit-learn/scikit-learn/issues/21755 */display: inline-block !important;position: relative;}#sk-container-id-1 div.sk-text-repr-fallback {display: none;}</style><div id=\"sk-container-id-1\" class=\"sk-top-container\"><div class=\"sk-text-repr-fallback\"><pre>MultinomialNB()</pre><b>In a Jupyter environment, please rerun this cell to show the HTML representation or trust the notebook. <br />On GitHub, the HTML representation is unable to render, please try loading this page with nbviewer.org.</b></div><div class=\"sk-container\" hidden><div class=\"sk-item\"><div class=\"sk-estimator sk-toggleable\"><input class=\"sk-toggleable__control sk-hidden--visually\" id=\"sk-estimator-id-1\" type=\"checkbox\" checked><label for=\"sk-estimator-id-1\" class=\"sk-toggleable__label sk-toggleable__label-arrow\">MultinomialNB</label><div class=\"sk-toggleable__content\"><pre>MultinomialNB()</pre></div></div></div></div></div>"
            ]
          },
          "metadata": {},
          "execution_count": 10
        }
      ],
      "source": [
        "# Create an instance of the Multinomial Naive Bayes classifier\n",
        "clf = MultinomialNB()\n",
        "# Fit the model to the training data\n",
        "clf.fit(x_train_transf, y_train)"
      ]
    },
    {
      "cell_type": "markdown",
      "id": "563fd5db",
      "metadata": {
        "id": "563fd5db"
      },
      "source": [
        "## Make predictions on the test data"
      ]
    },
    {
      "cell_type": "code",
      "execution_count": 11,
      "id": "6fb965b7",
      "metadata": {
        "id": "6fb965b7"
      },
      "outputs": [],
      "source": [
        "# Predict the target of the observations in the test set\n",
        "y_test_pred = clf.predict(x_test_transf)"
      ]
    },
    {
      "cell_type": "markdown",
      "id": "859d82a0",
      "metadata": {
        "id": "859d82a0"
      },
      "source": [
        "## Create a confusion matrix"
      ]
    },
    {
      "cell_type": "code",
      "execution_count": 12,
      "id": "eff3cffb",
      "metadata": {
        "colab": {
          "base_uri": "https://localhost:8080/",
          "height": 449
        },
        "id": "eff3cffb",
        "outputId": "a4cfd347-b83a-4410-e485-94000ae65080"
      },
      "outputs": [
        {
          "output_type": "display_data",
          "data": {
            "text/plain": [
              "<Figure size 640x480 with 2 Axes>"
            ],
            "image/png": "[encoded data removed]"
          },
          "metadata": {}
        }
      ],
      "source": [
        "# Drop the seaborn style, so that we remove the white lines passing throguh the numbers\n",
        "sns.reset_orig()\n",
        "\n",
        "# Create the confusion matrix by providing the true and the predicted values as arguments.\n",
        "ConfusionMatrixDisplay.from_predictions(\n",
        "    y_test, y_test_pred,\n",
        "    labels = clf.classes_,\n",
        "    cmap = 'magma'\n",
        ");"
      ]
    },
    {
      "cell_type": "markdown",
      "id": "48a27de6",
      "metadata": {
        "id": "48a27de6"
      },
      "source": [
        "## Print a classification report"
      ]
    },
    {
      "cell_type": "markdown",
      "id": "34204f19",
      "metadata": {
        "id": "34204f19"
      },
      "source": [
        "* Fill in the parameters necessary for the classification_report() method.\n",
        "* A parameter **zero_division** has been also added and set to 0."
      ]
    },
    {
      "cell_type": "code",
      "source": [
        "print(\"Unique values in y_test:\", sorted(set(y_test)))\n",
        "print(\"Unique values in y_test_pred:\", sorted(set(y_test_pred)))\n"
      ],
      "metadata": {
        "colab": {
          "base_uri": "https://localhost:8080/"
        },
        "id": "v3QvOXSJFnNf",
        "outputId": "4e53d0c6-2069-443b-f0c3-4114c786dc92"
      },
      "id": "v3QvOXSJFnNf",
      "execution_count": 13,
      "outputs": [
        {
          "output_type": "stream",
          "name": "stdout",
          "text": [
            "Unique values in y_test: [0, 1]\n",
            "Unique values in y_test_pred: [1]\n"
          ]
        }
      ]
    },
    {
      "cell_type": "code",
      "execution_count": 14,
      "id": "f0ffefb7",
      "metadata": {
        "colab": {
          "base_uri": "https://localhost:8080/"
        },
        "id": "f0ffefb7",
        "outputId": "fcae5d4c-60fc-4a49-86a3-02504cd256bb"
      },
      "outputs": [
        {
          "output_type": "stream",
          "name": "stdout",
          "text": [
            "              precision    recall  f1-score   support\n",
            "\n",
            "        Caws       0.00      0.00      0.00       150\n",
            "      Chrips       0.95      1.00      0.97      2850\n",
            "\n",
            "    accuracy                           0.95      3000\n",
            "   macro avg       0.47      0.50      0.49      3000\n",
            "weighted avg       0.90      0.95      0.93      3000\n",
            "\n"
          ]
        }
      ],
      "source": [
        "# The classification report consists of the precision, recall and f1-score of each class as well as\n",
        "# the overall accuracy of the model.\n",
        "print(classification_report(y_test, y_test_pred, target_names = ['Caws', 'Chrips'], zero_division = 0))"
      ]
    },
    {
      "cell_type": "code",
      "source": [
        "clf1 = ComplementNB()\n",
        "clf1.fit(x_train_transf, y_train)\n",
        "clf1.get_params()"
      ],
      "metadata": {
        "colab": {
          "base_uri": "https://localhost:8080/"
        },
        "id": "1syKhwT7GbQT",
        "outputId": "2b725fad-052a-4b1f-8582-50ae6bba5506"
      },
      "id": "1syKhwT7GbQT",
      "execution_count": 15,
      "outputs": [
        {
          "output_type": "execute_result",
          "data": {
            "text/plain": [
              "{'alpha': 1.0,\n",
              " 'class_prior': None,\n",
              " 'fit_prior': True,\n",
              " 'force_alpha': 'warn',\n",
              " 'norm': False}"
            ]
          },
          "metadata": {},
          "execution_count": 15
        }
      ]
    },
    {
      "cell_type": "code",
      "source": [
        "# Predict the target of the observations in the test set\n",
        "y_test_pred = clf1.predict(x_test_transf)"
      ],
      "metadata": {
        "id": "tpw2wVDyGiJj"
      },
      "id": "tpw2wVDyGiJj",
      "execution_count": 16,
      "outputs": []
    },
    {
      "cell_type": "code",
      "source": [
        "sns.reset_orig()\n",
        "ConfusionMatrixDisplay.from_predictions(\n",
        "    y_test, y_test_pred,\n",
        "    labels = clf.classes_,\n",
        "    cmap = 'magma'\n",
        ");"
      ],
      "metadata": {
        "colab": {
          "base_uri": "https://localhost:8080/",
          "height": 449
        },
        "id": "nuMhRNrgGkBf",
        "outputId": "0732b04d-38de-4a29-8f0a-409ad2e42bf0"
      },
      "id": "nuMhRNrgGkBf",
      "execution_count": 17,
      "outputs": [
        {
          "output_type": "display_data",
          "data": {
            "text/plain": [
              "<Figure size 640x480 with 2 Axes>"
            ],
            "image/png": "[encoded data removed]"
          },
          "metadata": {}
        }
      ]
    },
    {
      "cell_type": "code",
      "source": [
        "# The classification report consists of the precision, recall and f1-score of each class as well as\n",
        "# the overall accuracy of the model.\n",
        "print(classification_report(y_test, y_test_pred, target_names = ['Caws', 'Chrips'], zero_division = 0))"
      ],
      "metadata": {
        "colab": {
          "base_uri": "https://localhost:8080/"
        },
        "id": "ukG2ozfpGpZQ",
        "outputId": "85ce061d-e068-4530-bd7a-e62a645e875d"
      },
      "id": "ukG2ozfpGpZQ",
      "execution_count": 18,
      "outputs": [
        {
          "output_type": "stream",
          "name": "stdout",
          "text": [
            "              precision    recall  f1-score   support\n",
            "\n",
            "        Caws       0.12      0.05      0.07       150\n",
            "      Chrips       0.95      0.98      0.97      2850\n",
            "\n",
            "    accuracy                           0.94      3000\n",
            "   macro avg       0.54      0.51      0.52      3000\n",
            "weighted avg       0.91      0.94      0.92      3000\n",
            "\n"
          ]
        }
      ]
    }
  ],
  "metadata": {
    "kernelspec": {
      "display_name": "Python 3 (ipykernel)",
      "language": "python",
      "name": "python3"
    },
    "language_info": {
      "codemirror_mode": {
        "name": "ipython",
        "version": 3
      },
      "file_extension": ".py",
      "mimetype": "text/x-python",
      "name": "python",
      "nbconvert_exporter": "python",
      "pygments_lexer": "ipython3",
      "version": "3.8.8"
    },
    "colab": {
      "provenance": [],
      "include_colab_link": true
    }
  },
  "nbformat": 4,
  "nbformat_minor": 5
}